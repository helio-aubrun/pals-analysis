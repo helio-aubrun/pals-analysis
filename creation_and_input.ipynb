{
 "cells": [
  {
   "cell_type": "code",
   "execution_count": 1,
   "metadata": {},
   "outputs": [],
   "source": [
    "import pandas as pd\n",
    "import mysql.connector\n",
    "from sqlalchemy import create_engine"
   ]
  },
  {
   "cell_type": "code",
   "execution_count": 2,
   "metadata": {},
   "outputs": [],
   "source": [
    "user = \"root\"\n",
    "password = \"1234\"\n",
    "host = \"localhost\"\n",
    "database = \"palword_database\"\n",
    "\n",
    "engine = create_engine(f'mysql+mysqlconnector://{user}:{password}@{host}/{database}')"
   ]
  },
  {
   "cell_type": "code",
   "execution_count": 3,
   "metadata": {},
   "outputs": [
    {
     "name": "stdout",
     "output_type": "stream",
     "text": [
      "Connection réussie\n"
     ]
    }
   ],
   "source": [
    "try:\n",
    "    con = mysql.connector.connect(user=user, password=password, host=host, database=database)\n",
    "    cursor = con.cursor()\n",
    "    print(\"Connection réussie\")\n",
    "except :\n",
    "    con = mysql.connector.connect(user=user, password=password, host=host)\n",
    "    cursor = con.cursor()\n",
    "    cursor.execute(f\"CREATE DATABASE IF NOT EXISTS {database}\")\n",
    "    con.database = database  # Set the database property directly on the connection object\n",
    "    print(\"Création de la base de données réussie\")\n",
    "    \n",
    "    # Reconnect to the newly created database\n",
    "    cursor.close()\n",
    "    con.close()\n",
    "    \n",
    "    con = mysql.connector.connect(user=user, password=password, host=host, database=database)\n",
    "    cursor = con.cursor()\n",
    "    cursor.execute(\"SHOW TABLES\")  # Execute a simple query to verify the connection\n",
    "    print(\"Connexion à la base de données réussie\")\n"
   ]
  },
  {
   "cell_type": "code",
   "execution_count": 4,
   "metadata": {},
   "outputs": [
    {
     "name": "stdout",
     "output_type": "stream",
     "text": [
      "['Palworld_Data--Palu combat attribute table.csv', 'Palworld_Data-comparison of ordinary BOSS attributes.csv', 'Palworld_Data-hide pallu attributes.csv']\n"
     ]
    }
   ],
   "source": [
    "import os\n",
    "os.listdir()\n",
    "files = [f for f in os.listdir() if f.endswith('.csv')]\n",
    "print (files)"
   ]
  },
  {
   "cell_type": "code",
   "execution_count": 5,
   "metadata": {},
   "outputs": [],
   "source": [
    "def get_name (file_name) :\n",
    "    file_name = file_name.split (\".\")[0]\n",
    "    for i in range (len (file_name)) :\n",
    "        if not (ord('a') <= ord(file_name [i].lower()) and ord(file_name [i].lower()) <= ord('z')) :\n",
    "            file_name = file_name.replace (file_name [i], \"_\")\n",
    "    return file_name.lower ()"
   ]
  },
  {
   "cell_type": "code",
   "execution_count": 8,
   "metadata": {},
   "outputs": [
    {
     "name": "stdout",
     "output_type": "stream",
     "text": [
      "palworld_data__palu_combat_attribute_table\n",
      "palworld_data_comparison_of_ordinary_boss_attributes\n",
      "palworld_data_hide_pallu_attributes\n"
     ]
    }
   ],
   "source": [
    "for file in files :\n",
    "    print (get_name (file))\n",
    "    df = pd.read_csv (file)\n",
    "    df.to_sql(get_name (file), con=engine, if_exists='replace', index=False)"
   ]
  },
  {
   "cell_type": "code",
   "execution_count": 7,
   "metadata": {},
   "outputs": [],
   "source": [
    "cursor.close()\n",
    "con.close()"
   ]
  }
 ],
 "metadata": {
  "kernelspec": {
   "display_name": "Python 3",
   "language": "python",
   "name": "python3"
  },
  "language_info": {
   "codemirror_mode": {
    "name": "ipython",
    "version": 3
   },
   "file_extension": ".py",
   "mimetype": "text/x-python",
   "name": "python",
   "nbconvert_exporter": "python",
   "pygments_lexer": "ipython3",
   "version": "3.12.1"
  }
 },
 "nbformat": 4,
 "nbformat_minor": 2
}
